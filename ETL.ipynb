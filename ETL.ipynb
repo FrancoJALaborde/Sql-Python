{
 "cells": [
  {
   "cell_type": "markdown",
   "metadata": {},
   "source": [
    "### Import necessary libraries"
   ]
  },
  {
   "cell_type": "code",
   "execution_count": 5,
   "metadata": {},
   "outputs": [],
   "source": [
    "import pandas as pd"
   ]
  },
  {
   "cell_type": "markdown",
   "metadata": {},
   "source": [
    "### Creation / loading of all dataframes"
   ]
  },
  {
   "cell_type": "code",
   "execution_count": 16,
   "metadata": {},
   "outputs": [],
   "source": [
    "calendar = pd.read_csv('Data-csv\\calendar.csv')\n",
    "channels = pd.read_csv('Data-csv\\channels.csv')\n",
    "customers = pd.read_csv('Data-csv\\customers.csv')\n",
    "employees = pd.read_csv('Data-csv\\employees.csv')\n",
    "expensetypes = pd.read_csv('Data-csv\\expense-types.csv')\n",
    "expenses = pd.read_csv('Data-csv\\expenses.csv')\n",
    "products = pd.read_csv('Data-csv\\products.csv')\n",
    "salepoints = pd.read_csv('Data-csv\\sale-points.csv')\n",
    "sales = pd.read_csv('Data-csv\\sales.csv')"
   ]
  },
  {
   "cell_type": "markdown",
   "metadata": {},
   "source": [
    "### ETL customers"
   ]
  },
  {
   "cell_type": "markdown",
   "metadata": {},
   "source": [
    "#### This Python code snippet performs the following actions:\n",
    "\n",
    "1. **Handling Missing Data:** The line `customers['Phone'].fillna('number not available', inplace=True)` ensures that any missing values (NaNs) in the 'Phone' column of the 'customers' DataFrame are replaced with the text 'number not available'. The `fillna()` method is used to accomplish this, and the `inplace=True` argument ensures that the changes are made directly to the original 'customers' DataFrame.\n",
    "\n",
    "2. **Displaying Specific Columns:** The code `print(customers[['CustomerID', 'Name_and_Surname', 'Phone']])` prints a subset of the 'customers' DataFrame. It specifically selects the columns 'CustomerID', 'Name_and_Surname', and 'Phone' using double square brackets. This subset will only display the specified columns, showing the customer IDs, names, surnames, and their corresponding phone numbers (including the ones filled with 'number not available')."
   ]
  },
  {
   "cell_type": "code",
   "execution_count": 7,
   "metadata": {},
   "outputs": [
    {
     "name": "stdout",
     "output_type": "stream",
     "text": [
      "      CustomerID         Name_and_Surname                 Phone\n",
      "0              1       Heber Joni Santana               42-5161\n",
      "1              2              Ana Sapriza               49-7578\n",
      "2              3  Fernando Luis Saralegui               49-3435\n",
      "3              4         Manuela Sarasola               49-2883\n",
      "4              5       Mario Ra�l Sarasua              491-4608\n",
      "...          ...                      ...                   ...\n",
      "3402        3403          Edmundo Roselli  number not available\n",
      "3403        3404   Gerardo Manuel Rosendo  number not available\n",
      "3404        3405         Jose Luis Ruocco               4301318\n",
      "3405        3406    Ana Maria Salveraglio  number not available\n",
      "3406        3407                 Sin Dato  number not available\n",
      "\n",
      "[3407 rows x 3 columns]\n"
     ]
    }
   ],
   "source": [
    "# Replace missing values in the 'Phone' column of the 'customers' DataFrame with the string 'number not available'.\n",
    "customers['Phone'].fillna('number not available', inplace=True)\n",
    "\n",
    "# Print a subset of the 'customers' DataFrame containing the columns 'CustomerID', 'Name_and_Surname', and 'Phone'.\n",
    "print(customers[['CustomerID', 'Name_and_Surname', 'Phone']])"
   ]
  },
  {
   "cell_type": "markdown",
   "metadata": {},
   "source": [
    "#### This Python code snippet performs the following actions:\n",
    "\n",
    "1. **Splitting Names and Surnames:** The line `customers[['Name', 'Surname']] = customers['Name_and_Surname'].str.split(' ', n=1, expand=True)` splits the 'Name_and_Surname' column in the 'customers' DataFrame into two separate columns, 'Name' and 'Surname', based on the space (' ') separator. The `str.split()` method is used with the `n=1` parameter to split the string only once, and `expand=True` ensures that the results are returned as separate columns.\n",
    "\n",
    "2. **Displaying Selected Columns:** The code `print(customers[['CustomerID', 'Name_and_Surname', 'Name', 'Surname']])` prints a subset of the 'customers' DataFrame. It specifically selects the columns 'CustomerID', 'Name_and_Surname', 'Name', and 'Surname' using double square brackets. This subset will display the customer IDs, the original 'Name_and_Surname' column, as well as the separated 'Name' and 'Surname' columns obtained from the split operation.\n"
   ]
  },
  {
   "cell_type": "code",
   "execution_count": 8,
   "metadata": {},
   "outputs": [
    {
     "name": "stdout",
     "output_type": "stream",
     "text": [
      "      CustomerID         Name_and_Surname      Name            Surname\n",
      "0              1       Heber Joni Santana     Heber       Joni Santana\n",
      "1              2              Ana Sapriza       Ana            Sapriza\n",
      "2              3  Fernando Luis Saralegui  Fernando     Luis Saralegui\n",
      "3              4         Manuela Sarasola   Manuela           Sarasola\n",
      "4              5       Mario Ra�l Sarasua     Mario       Ra�l Sarasua\n",
      "...          ...                      ...       ...                ...\n",
      "3402        3403          Edmundo Roselli   Edmundo            Roselli\n",
      "3403        3404   Gerardo Manuel Rosendo   Gerardo     Manuel Rosendo\n",
      "3404        3405         Jose Luis Ruocco      Jose        Luis Ruocco\n",
      "3405        3406    Ana Maria Salveraglio       Ana  Maria Salveraglio\n",
      "3406        3407                 Sin Dato       Sin               Dato\n",
      "\n",
      "[3407 rows x 4 columns]\n"
     ]
    }
   ],
   "source": [
    "customers[['Name', 'Surname']] = customers['Name_and_Surname'].str.split(' ', n=1, expand=True)\n",
    "\n",
    "print(customers[['CustomerID', 'Name_and_Surname', 'Name', 'Surname']])"
   ]
  },
  {
   "cell_type": "code",
   "execution_count": 9,
   "metadata": {},
   "outputs": [],
   "source": [
    "customers.to_csv('Data01-csv\\customers-01.csv', index=False)"
   ]
  },
  {
   "cell_type": "markdown",
   "metadata": {},
   "source": [
    "### ETL employees"
   ]
  },
  {
   "cell_type": "markdown",
   "metadata": {},
   "source": [
    "#### This Python code snippet performs the following actions:\n",
    "\n",
    "1. **Dropping 'EmployeeID' Column:** The line `employees.drop('EmployeeID', axis=1, inplace=True)` drops the 'EmployeeID' column from the 'employees' DataFrame. The `axis=1` parameter specifies that we are dropping a column, and `inplace=True` ensures that the changes are made directly to the original DataFrame.\n",
    "\n",
    "2. **Merging DataFrames:** The line `merged_data = pd.merge(employees, salepoints[['BranchID']], on='BranchID')` merges the 'employees' DataFrame with the 'salepoints' DataFrame, based on the common 'BranchID' column. This operation creates a new DataFrame named 'merged_data' containing the merged results.\n",
    "\n",
    "3. **Generating 'EmployeeID':** The line `merged_data['EmployeeID'] = merged_data['BranchID'].astype(str) + '000' + merged_data['EmployeeCode'].astype(str)` creates a new 'EmployeeID' column in the 'merged_data' DataFrame by combining the 'BranchID' column and the 'EmployeeCode' column. The `astype(str)` method is used to convert numerical values to strings, and the concatenation is done with '000' as a separator.\n",
    "\n",
    "4. **Reordering Columns:** The lines `cols = list(merged_data.columns)` and `cols.insert(0, 'EmployeeID')` create a list of column names from the 'merged_data' DataFrame and insert 'EmployeeID' as the first column.\n",
    "\n",
    "5. **Rearranging DataFrame Columns:** The line `merged_data = merged_data[cols]` rearranges the columns of the 'merged_data' DataFrame according to the new order specified in the 'cols' list.\n",
    "\n",
    "6. **Saving to CSV:** The line `merged_data.to_csv('Data01-csv\\employees-01.csv', index=False)` saves the 'merged_data' DataFrame to a CSV file named 'employees-01.csv' in the 'Data01-csv' directory. The `index=False` parameter ensures that the DataFrame index is not included in the CSV file.\n"
   ]
  },
  {
   "cell_type": "code",
   "execution_count": 10,
   "metadata": {},
   "outputs": [],
   "source": [
    "employees.drop('EmployeeID', axis=1, inplace=True)\n",
    "\n",
    "merged_data = pd.merge(employees, salepoints[['BranchID']], on='BranchID')\n",
    "merged_data['EmployeeID'] = merged_data['BranchID'].astype(str) + '000' + merged_data['EmployeeCode'].astype(str)\n",
    "\n",
    "cols = list(merged_data.columns)\n",
    "cols.insert(0, 'EmployeeID')\n",
    "merged_data = merged_data[cols]\n",
    "\n",
    "\n",
    "merged_data.to_csv('Data01-csv\\employees-01.csv', index=False)"
   ]
  },
  {
   "cell_type": "markdown",
   "metadata": {},
   "source": [
    "### ETL sales"
   ]
  },
  {
   "cell_type": "markdown",
   "metadata": {},
   "source": [
    "### This Python code snippet performs the following actions:\n",
    "\n",
    "1. **Drop 'Price' Column:** The line `sales.drop('Price', axis=1, inplace=True)` drops the 'Price' column from the 'sales' DataFrame. The `axis=1` parameter specifies that we are dropping a column, and `inplace=True` ensures that the changes are made directly to the original DataFrame.\n",
    "\n",
    "2. **Merge DataFrames:** The line `sales = sales.merge(products[['ProductID', 'Price']], on='ProductID', how='left')` merges the 'sales' DataFrame with the 'products' DataFrame based on the 'ProductID' column. This operation adds the 'Price' column from the 'products' DataFrame to the 'sales' DataFrame, matching each product's price to its corresponding sale.\n",
    "\n",
    "3. **Calculate Total Sales:** The line `sales['Total'] = sales['Price'] * sales['Quantity']` calculates the total for each sale by multiplying the 'Price' and 'Quantity' columns in the 'sales' DataFrame. The result is stored in a new 'Total' column.\n",
    "\n",
    "4. **Save to CSV:** The line `sales.to_csv('Data01-csv\\sales-01.csv', index=False)` saves the updated 'sales' DataFrame with the newly added 'Total' column to a new CSV file named 'sales-01.csv' in the 'Data01-csv' directory. The `index=False` parameter ensures that the DataFrame index is not included in the CSV file.\n",
    "\n",
    "5. **Display the Updated DataFrame:** The line `print(sales)` displays the updated 'sales' DataFrame with the 'Total' column, showing the detailed information for each sale, including the 'ProductID', 'Quantity', 'Price', and the newly calculated 'Total'.\n"
   ]
  },
  {
   "cell_type": "code",
   "execution_count": 18,
   "metadata": {},
   "outputs": [
    {
     "name": "stdout",
     "output_type": "stream",
     "text": [
      "       SaleID        Date Delivery_Date  ChannelID  CustomerID  BranchID   \n",
      "0          10  2019-03-16    2019-03-17          1        1003        13  \\\n",
      "1          17  2019-02-07    2019-02-08          2        1590        13   \n",
      "2          18  2019-02-14    2019-02-22          2        3029        13   \n",
      "3          19  2019-09-21    2019-09-22          3        2854        13   \n",
      "4          24  2019-03-08    2019-03-16          2        1286        13   \n",
      "...       ...         ...           ...        ...         ...       ...   \n",
      "16255   48237  2020-12-30    2021-01-02          1        1368        20   \n",
      "16256   48238  2020-12-30    2021-01-02          2         354        23   \n",
      "16257   48239  2020-12-30    2021-01-06          2        2400        25   \n",
      "16258   48240  2020-12-30    2021-01-03          2        1803        30   \n",
      "16259   48241  2020-12-30    2021-01-02          2         226        31   \n",
      "\n",
      "       EmployeeID  ProductID  Quantity    Total    Price  \n",
      "0        13001674      42894         2  1030.00   515.00  \n",
      "1        13001674      42976         1   216.00   216.00  \n",
      "2        13001674      43010         3  1161.00   387.00  \n",
      "3        13001674      42958         2  7526.00  3763.00  \n",
      "4        13001674      42787         2  2732.84  1366.42  \n",
      "...           ...        ...       ...      ...      ...  \n",
      "16255    20003186      42880         2  1120.00   560.00  \n",
      "16256    23003504      42883         1   498.00   498.00  \n",
      "16257    25003622      42814         2   739.64   369.82  \n",
      "16258    30003864      42998         3  1587.00   529.00  \n",
      "16259    31003205      42810         2  2565.64  1282.82  \n",
      "\n",
      "[16260 rows x 11 columns]\n"
     ]
    }
   ],
   "source": [
    "# Drop the 'Price' column from the DataFrame 'sales'\n",
    "sales.drop('Price', axis=1, inplace=True)\n",
    "\n",
    "# Merge the 'sales' and 'products' DataFrames based on 'ProductID' to add 'Price' column to 'sales'\n",
    "sales = sales.merge(products[['ProductID', 'Price']], on='ProductID', how='left')\n",
    "\n",
    "# Calculate the total for each sale (Price * Quantity)\n",
    "sales['Total'] = sales['Price'] * sales['Quantity']\n",
    "\n",
    "# Save the updated sales DataFrame with the 'Total' column to a new CSV file\n",
    "sales.to_csv('Data01-csv\\sales-01.csv', index=False)\n",
    "\n",
    "# Display the updated sales DataFrame with the 'Total' column\n",
    "print(sales)"
   ]
  }
 ],
 "metadata": {
  "kernelspec": {
   "display_name": "Python 3",
   "language": "python",
   "name": "python3"
  },
  "language_info": {
   "codemirror_mode": {
    "name": "ipython",
    "version": 3
   },
   "file_extension": ".py",
   "mimetype": "text/x-python",
   "name": "python",
   "nbconvert_exporter": "python",
   "pygments_lexer": "ipython3",
   "version": "3.11.3"
  },
  "orig_nbformat": 4
 },
 "nbformat": 4,
 "nbformat_minor": 2
}
